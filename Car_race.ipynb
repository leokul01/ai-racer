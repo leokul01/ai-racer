{
 "cells": [
  {
   "cell_type": "code",
   "execution_count": 1,
   "metadata": {},
   "outputs": [],
   "source": [
    "import tensorflow as tf\n",
    "from tensorflow.keras import backend as K\n",
    "from tensorflow.keras.models import load_model\n",
    "import numpy as np"
   ]
  },
  {
   "cell_type": "code",
   "execution_count": 2,
   "metadata": {},
   "outputs": [],
   "source": [
    "Actions = np.array([np.array([0, 0.6, 0]),\n",
    "np.array([0, 0, 0]),\n",
    "np.array([0, 0, 0.4]),\n",
    "np.array([-1, 0, 0]),\n",
    "np.array([1, 0, 0]),\n",
    "np.array([-1, 0, 0.4]),\n",
    "np.array([1, 0, 0.4])])"
   ]
  },
  {
   "cell_type": "code",
   "execution_count": 3,
   "metadata": {},
   "outputs": [],
   "source": [
    "model = load_model('my_model.h5')"
   ]
  },
  {
   "cell_type": "code",
   "execution_count": 4,
   "metadata": {},
   "outputs": [
    {
     "name": "stdout",
     "output_type": "stream",
     "text": [
      "Model: \"model_13\"\n",
      "_________________________________________________________________\n",
      "Layer (type)                 Output Shape              Param #   \n",
      "=================================================================\n",
      "input_25 (InputLayer)        [(None, 96, 96, 3)]       0         \n",
      "_________________________________________________________________\n",
      "inception_resnet_v2 (Model)  (None, 1536)              54336736  \n",
      "_________________________________________________________________\n",
      "flatten_15 (Flatten)         (None, 1536)              0         \n",
      "_________________________________________________________________\n",
      "dense_31 (Dense)             (None, 64)                98368     \n",
      "_________________________________________________________________\n",
      "dense_32 (Dense)             (None, 16)                1040      \n",
      "_________________________________________________________________\n",
      "dense_33 (Dense)             (None, 7)                 119       \n",
      "=================================================================\n",
      "Total params: 54,436,263\n",
      "Trainable params: 99,527\n",
      "Non-trainable params: 54,336,736\n",
      "_________________________________________________________________\n"
     ]
    }
   ],
   "source": [
    "model.summary()"
   ]
  },
  {
   "cell_type": "code",
   "execution_count": null,
   "metadata": {},
   "outputs": [
    {
     "name": "stdout",
     "output_type": "stream",
     "text": [
      "Track generation: 1248..1564 -> 316-tiles track\n"
     ]
    },
    {
     "name": "stderr",
     "output_type": "stream",
     "text": [
      "D:\\Anaconda\\envs\\CarRace\\lib\\site-packages\\gym\\logger.py:30: UserWarning: \u001b[33mWARN: Box bound precision lowered by casting to float32\u001b[0m\n",
      "  warnings.warn(colorize('%s: %s'%('WARN', msg % args), 'yellow'))\n"
     ]
    }
   ],
   "source": [
    "import gym\n",
    "env = gym.make('CarRacing-v0')\n",
    "state = env.reset()\n",
    "states = state.reshape(1,96,96,3)\n",
    "# for i in range(5):\n",
    "#     states[:,i] = state\n",
    "    \n",
    "for _ in range(50):\n",
    "    action = np.array([0,1,0])\n",
    "    next_state, reward, done, _ = env.step(action)\n",
    "    env.render()\n",
    "    states = next_state.reshape(1,96,96,3)\n",
    "for _ in range(3000):\n",
    "    action_dist = model.predict(states)\n",
    "    action_num = np.argmax(action_dist)\n",
    "    action = Actions[action_num]\n",
    "    next_state, reward, done, _ = env.step(action)\n",
    "    env.render()\n",
    "    states = next_state.reshape(1,96,96,3)\n",
    "    if done:\n",
    "        break\n",
    "env.close()"
   ]
  },
  {
   "cell_type": "code",
   "execution_count": null,
   "metadata": {},
   "outputs": [],
   "source": []
  }
 ],
 "metadata": {
  "kernelspec": {
   "display_name": "Python 3",
   "language": "python",
   "name": "python3"
  },
  "language_info": {
   "codemirror_mode": {
    "name": "ipython",
    "version": 3
   },
   "file_extension": ".py",
   "mimetype": "text/x-python",
   "name": "python",
   "nbconvert_exporter": "python",
   "pygments_lexer": "ipython3",
   "version": "3.7.7"
  }
 },
 "nbformat": 4,
 "nbformat_minor": 4
}
