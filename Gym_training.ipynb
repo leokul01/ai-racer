{
  "nbformat": 4,
  "nbformat_minor": 0,
  "metadata": {
    "colab": {
      "name": "Gym_training.ipynb",
      "provenance": [],
      "machine_shape": "hm"
    },
    "kernelspec": {
      "name": "python3",
      "display_name": "Python 3"
    },
    "accelerator": "GPU"
  },
  "cells": [
    {
      "cell_type": "code",
      "metadata": {
        "id": "eMSF9DpeAQnD",
        "colab_type": "code",
        "colab": {}
      },
      "source": [
        "import numpy as np\n",
        "from collections import OrderedDict\n",
        "import tensorflow as tf"
      ],
      "execution_count": 0,
      "outputs": []
    },
    {
      "cell_type": "code",
      "metadata": {
        "id": "NNCjYBQwBUa7",
        "colab_type": "code",
        "colab": {}
      },
      "source": [
        "from tensorflow.keras.layers import Input, Dense, Conv2D, MaxPooling3D, Flatten, Conv3D\n",
        "from tensorflow.keras.models import Model\n",
        "from tensorflow.keras.optimizers import Adam\n",
        "from tensorflow.keras import backend as K\n",
        "from tensorflow.keras.losses import CategoricalCrossentropy\n",
        "#from tensorflow.keras.applications.mobilenet_v2 import MobileNetV2\n",
        "import random\n",
        "from os import walk\n",
        "\n",
        "\n",
        "Actions = np.array([np.array([0, 1, 0]),\n",
        "np.array([0, 0, 0]),\n",
        "np.array([0, 0, 0.4]),\n",
        "np.array([-1, 0, 0]),\n",
        "np.array([1, 0, 0]),\n",
        "np.array([-1, 0, 0.4]),\n",
        "np.array([1, 0, 0.4])])"
      ],
      "execution_count": 0,
      "outputs": []
    },
    {
      "cell_type": "code",
      "metadata": {
        "id": "i0yiJxLOBWDG",
        "colab_type": "code",
        "colab": {}
      },
      "source": [
        "walking = walk('/content/drive/My Drive/Gym')\n",
        "for i in walking:\n",
        "  names = i[2]\n",
        "  break"
      ],
      "execution_count": 0,
      "outputs": []
    },
    {
      "cell_type": "code",
      "metadata": {
        "id": "vkMW7s9tHAFo",
        "colab_type": "code",
        "colab": {
          "base_uri": "https://localhost:8080/",
          "height": 34
        },
        "outputId": "c47b2ff1-c9d7-49f9-8040-94c3e3c4abe5"
      },
      "source": [
        "import pandas as pd\n",
        "\n",
        "states_expanded = []\n",
        "actions_expanded = []\n",
        "actions_one_hot_expanded = []\n",
        "v = 0\n",
        "for j in names:\n",
        "  data = pd.read_pickle('/content/drive/My Drive/Gym/{}'.format(j))\n",
        "  states = data['states']\n",
        "  actions = data['actions']\n",
        "  actions_one_hot = actions_one_hot = data['actions_onehot']\n",
        "  for i in range(55, len(states)):\n",
        "    states_expanded.append(np.array([states[i - m] for m in range(5)]))\n",
        "    actions_expanded.append(np.array(actions[i]))\n",
        "    actions_one_hot_expanded.append(np.array(actions_one_hot[i]))\n",
        "actions_expanded = np.array(actions_expanded)\n",
        "actions_one_hot_expanded = np.array(actions_one_hot_expanded)\n",
        "print(len(states_expanded))"
      ],
      "execution_count": 4,
      "outputs": [
        {
          "output_type": "stream",
          "text": [
            "95541\n"
          ],
          "name": "stdout"
        }
      ]
    },
    {
      "cell_type": "code",
      "metadata": {
        "id": "kxhJT0vB58Fb",
        "colab_type": "code",
        "colab": {}
      },
      "source": [
        "X_train = np.array(states_expanded[:50000])\n",
        "del states_expanded[:50000]\n",
        "X_test = np.array(states_expanded[:30000])\n",
        "del states_expanded[:30000]\n",
        "X_train = np.append(X_train, X_test, axis=0)\n",
        "X_test = None"
      ],
      "execution_count": 0,
      "outputs": []
    },
    {
      "cell_type": "code",
      "metadata": {
        "id": "jb6e2YS48BjI",
        "colab_type": "code",
        "colab": {}
      },
      "source": [
        "X_test = np.array(states_expanded)\n",
        "states_expanded = None"
      ],
      "execution_count": 0,
      "outputs": []
    },
    {
      "cell_type": "code",
      "metadata": {
        "id": "vKU7CD_CFbWf",
        "colab_type": "code",
        "colab": {}
      },
      "source": [
        "from sys import getsizeof"
      ],
      "execution_count": 0,
      "outputs": []
    },
    {
      "cell_type": "code",
      "metadata": {
        "id": "KKHGhUohoGsY",
        "colab_type": "code",
        "colab": {}
      },
      "source": [
        "one_hot = np.array([i for i in range(7)]).reshape(-1,1)"
      ],
      "execution_count": 0,
      "outputs": []
    },
    {
      "cell_type": "code",
      "metadata": {
        "id": "FfwMKPs80vLv",
        "colab_type": "code",
        "colab": {}
      },
      "source": [
        "data = None\n",
        "states = None\n",
        "actions = None\n",
        "actions_one_hot = None\n",
        "# states_expanded = np.array(states_expanded)"
      ],
      "execution_count": 0,
      "outputs": []
    },
    {
      "cell_type": "code",
      "metadata": {
        "id": "Rjw_LqRUMng6",
        "colab_type": "code",
        "outputId": "15f02531-0827-4a3c-8858-0e8d96505b03",
        "colab": {
          "base_uri": "https://localhost:8080/",
          "height": 51
        }
      },
      "source": [
        "from sklearn.preprocessing import OneHotEncoder\n",
        "\n",
        "OH = OneHotEncoder()\n",
        "OH.fit(one_hot)"
      ],
      "execution_count": 10,
      "outputs": [
        {
          "output_type": "execute_result",
          "data": {
            "text/plain": [
              "OneHotEncoder(categories='auto', drop=None, dtype=<class 'numpy.float64'>,\n",
              "              handle_unknown='error', sparse=True)"
            ]
          },
          "metadata": {
            "tags": []
          },
          "execution_count": 10
        }
      ]
    },
    {
      "cell_type": "code",
      "metadata": {
        "id": "IPs6W39KpKY5",
        "colab_type": "code",
        "colab": {}
      },
      "source": [
        "def create_model():\n",
        "  inputs = Input(shape=(5,96,96,3))\n",
        "  X = Conv3D(filters=32, kernel_size=(1,5,5), padding='same', activation='relu')(inputs)\n",
        "  X = MaxPooling3D((1,2,2))(X)\n",
        "  X = Conv3D(filters=64, kernel_size=(1,5,5), padding='same', activation='relu')(X)\n",
        "  X = MaxPooling3D((1,2,2))(X)\n",
        "  # X = Conv3D(filters=128, kernel_size=(1,5,5), padding='same', activation='relu')(X)\n",
        "  # X = MaxPooling3D((1,2,2))(X)\n",
        "  X = Flatten()(X)\n",
        "  X = Dense(64, activation='relu')(X)\n",
        "  outputs = Dense(7, activation='softmax')(X)\n",
        "  model = Model(inputs=inputs,outputs=outputs)\n",
        "  return model"
      ],
      "execution_count": 0,
      "outputs": []
    },
    {
      "cell_type": "code",
      "metadata": {
        "id": "PxIemuY-tB3a",
        "colab_type": "code",
        "outputId": "1ce6d779-354a-4625-e23c-ce6862e9c3ec",
        "colab": {
          "base_uri": "https://localhost:8080/",
          "height": 425
        }
      },
      "source": [
        "model = create_model()\n",
        "model.summary()"
      ],
      "execution_count": 12,
      "outputs": [
        {
          "output_type": "stream",
          "text": [
            "Model: \"model\"\n",
            "_________________________________________________________________\n",
            "Layer (type)                 Output Shape              Param #   \n",
            "=================================================================\n",
            "input_1 (InputLayer)         [(None, 5, 96, 96, 3)]    0         \n",
            "_________________________________________________________________\n",
            "conv3d (Conv3D)              (None, 5, 96, 96, 32)     2432      \n",
            "_________________________________________________________________\n",
            "max_pooling3d (MaxPooling3D) (None, 5, 48, 48, 32)     0         \n",
            "_________________________________________________________________\n",
            "conv3d_1 (Conv3D)            (None, 5, 48, 48, 64)     51264     \n",
            "_________________________________________________________________\n",
            "max_pooling3d_1 (MaxPooling3 (None, 5, 24, 24, 64)     0         \n",
            "_________________________________________________________________\n",
            "flatten (Flatten)            (None, 184320)            0         \n",
            "_________________________________________________________________\n",
            "dense (Dense)                (None, 64)                11796544  \n",
            "_________________________________________________________________\n",
            "dense_1 (Dense)              (None, 7)                 455       \n",
            "=================================================================\n",
            "Total params: 11,850,695\n",
            "Trainable params: 11,850,695\n",
            "Non-trainable params: 0\n",
            "_________________________________________________________________\n"
          ],
          "name": "stdout"
        }
      ]
    },
    {
      "cell_type": "code",
      "metadata": {
        "id": "G5srnQn-tTcF",
        "colab_type": "code",
        "colab": {}
      },
      "source": [
        "model.compile(loss=CategoricalCrossentropy(), optimizer=Adam(), metrics=['categorical_crossentropy'])"
      ],
      "execution_count": 0,
      "outputs": []
    },
    {
      "cell_type": "code",
      "metadata": {
        "id": "WhJhP1Rzu47R",
        "colab_type": "code",
        "colab": {
          "base_uri": "https://localhost:8080/",
          "height": 105
        },
        "outputId": "937ac7f9-5b7a-4f56-daf8-716fb94e808e"
      },
      "source": [
        "history = model.fit(X_train, actions_one_hot_expanded[:80000,:], validation_data=(X_test,actions_one_hot_expanded[80000:,:]),  batch_size=64, epochs=2, shuffle=True)"
      ],
      "execution_count": 0,
      "outputs": [
        {
          "output_type": "stream",
          "text": [
            "Epoch 1/2\n",
            "1250/1250 [==============================] - 578s 463ms/step - loss: 7.8190 - categorical_crossentropy: 7.8190 - val_loss: 0.8021 - val_categorical_crossentropy: 0.8021\n",
            "Epoch 2/2\n",
            " 858/1250 [===================>..........] - ETA: 2:49 - loss: 0.7407 - categorical_crossentropy: 0.7407"
          ],
          "name": "stdout"
        }
      ]
    },
    {
      "cell_type": "code",
      "metadata": {
        "id": "16gdiVk1Ir7S",
        "colab_type": "code",
        "colab": {}
      },
      "source": [
        "model.save('/content/drive/My Drive/Gym2/my_model.h5')"
      ],
      "execution_count": 0,
      "outputs": []
    }
  ]
}