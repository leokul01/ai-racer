{
  "nbformat": 4,
  "nbformat_minor": 0,
  "metadata": {
    "colab": {
      "name": "Gym_training.ipynb",
      "provenance": [],
      "collapsed_sections": [],
      "machine_shape": "hm"
    },
    "kernelspec": {
      "name": "python3",
      "display_name": "Python 3"
    },
    "accelerator": "GPU"
  },
  "cells": [
    {
      "cell_type": "code",
      "metadata": {
        "id": "eMSF9DpeAQnD",
        "colab_type": "code",
        "colab": {}
      },
      "source": [
        "import numpy as np\n",
        "import tensorflow as tf"
      ],
      "execution_count": 0,
      "outputs": []
    },
    {
      "cell_type": "code",
      "metadata": {
        "id": "NNCjYBQwBUa7",
        "colab_type": "code",
        "colab": {}
      },
      "source": [
        "from tensorflow.keras.layers import Input, Dense, Conv2D, MaxPooling3D, Flatten, Conv3D, MaxPooling2D, Dropout\n",
        "from tensorflow.keras.models import Model\n",
        "from tensorflow.keras.optimizers import Adam\n",
        "from tensorflow.keras import backend as K\n",
        "from tensorflow.keras.losses import CategoricalCrossentropy\n",
        "from tensorflow.keras.applications.mobilenet_v2 import MobileNetV2\n",
        "from tensorflow.keras.applications.inception_resnet_v2 import InceptionResNetV2\n",
        "import random\n",
        "from os import walk\n",
        "\n",
        "\n",
        "Actions = np.array([np.array([0, 1, 0]),\n",
        "np.array([0, 0, 0]),\n",
        "np.array([0, 0, 0.4]),\n",
        "np.array([-1, 0, 0]),\n",
        "np.array([1, 0, 0]),\n",
        "np.array([-1, 0, 0.4]),\n",
        "np.array([1, 0, 0.4])])"
      ],
      "execution_count": 0,
      "outputs": []
    },
    {
      "cell_type": "code",
      "metadata": {
        "id": "i0yiJxLOBWDG",
        "colab_type": "code",
        "colab": {}
      },
      "source": [
        "walking = walk('/content/drive/My Drive/Gym')\n",
        "for i in walking:\n",
        "  names = i[2]\n",
        "  break"
      ],
      "execution_count": 0,
      "outputs": []
    },
    {
      "cell_type": "code",
      "metadata": {
        "id": "vkMW7s9tHAFo",
        "colab_type": "code",
        "colab": {
          "base_uri": "https://localhost:8080/",
          "height": 34
        },
        "outputId": "6d8a3f6d-5766-460b-b4e3-71aeaa7f2eec"
      },
      "source": [
        "import pandas as pd\n",
        "\n",
        "states_expanded = []\n",
        "actions_expanded = []\n",
        "actions_one_hot_expanded = []\n",
        "v = 0\n",
        "for j in names:\n",
        "  data = pd.read_pickle('/content/drive/My Drive/Gym/{}'.format(j))\n",
        "  states = data['states']\n",
        "  actions = data['actions']\n",
        "  actions_one_hot = actions_one_hot = data['actions_onehot']\n",
        "  for i in range(55, len(states)):\n",
        "    states_expanded.append(np.array(states[i]))\n",
        "    actions_expanded.append(np.array(actions[i]))\n",
        "    actions_one_hot_expanded.append(np.array(actions_one_hot[i]))\n",
        "actions_expanded = np.array(actions_expanded)\n",
        "actions_one_hot_expanded = np.array(actions_one_hot_expanded)\n",
        "states_expanded = np.array(states_expanded)\n",
        "states_expanded.shape"
      ],
      "execution_count": 7,
      "outputs": [
        {
          "output_type": "execute_result",
          "data": {
            "text/plain": [
              "(95541, 96, 96, 3)"
            ]
          },
          "metadata": {
            "tags": []
          },
          "execution_count": 7
        }
      ]
    },
    {
      "cell_type": "code",
      "metadata": {
        "id": "kxhJT0vB58Fb",
        "colab_type": "code",
        "colab": {}
      },
      "source": [
        "# X_train = np.array(states_expanded[:50000])\n",
        "# del states_expanded[:50000]\n",
        "# X_test = np.array(states_expanded[:30000])\n",
        "# del states_expanded[:30000]\n",
        "# X_train = np.append(X_train, X_test, axis=0)\n",
        "# X_test = None"
      ],
      "execution_count": 0,
      "outputs": []
    },
    {
      "cell_type": "code",
      "metadata": {
        "id": "jb6e2YS48BjI",
        "colab_type": "code",
        "colab": {}
      },
      "source": [
        "# X_test = np.array(states_expanded)\n",
        "# states_expanded = None"
      ],
      "execution_count": 0,
      "outputs": []
    },
    {
      "cell_type": "code",
      "metadata": {
        "id": "FfwMKPs80vLv",
        "colab_type": "code",
        "colab": {}
      },
      "source": [
        "data = None\n",
        "states = None\n",
        "actions = None\n",
        "actions_one_hot = None\n",
        "# states_expanded = np.array(states_expanded)"
      ],
      "execution_count": 0,
      "outputs": []
    },
    {
      "cell_type": "code",
      "metadata": {
        "id": "IPs6W39KpKY5",
        "colab_type": "code",
        "colab": {}
      },
      "source": [
        "def create_model():\n",
        "  inputs = Input(shape=(96,96,3))\n",
        "  X = Conv2D(filters=32, kernel_size=(5,5), padding='same', activation='relu')(inputs)\n",
        "  X = MaxPooling2D((2,2))(X)\n",
        "  X = Dropout(0.5)(X)\n",
        "  X = Conv2D(filters=64, kernel_size=(5,5), padding='same', activation='relu')(X)\n",
        "  X = MaxPooling2D((2,2))(X)\n",
        "  X = Dropout(0.5)(X)\n",
        "  X = Conv2D(filters=128, kernel_size=(5,5), padding='same', activation='relu')(X)\n",
        "  X = MaxPooling2D((2,2))(X)\n",
        "  X = Dropout(0.3)(X)\n",
        "  X = Conv2D(filters=256, kernel_size=(3,3), padding='same', activation='relu')(X)\n",
        "  X = MaxPooling2D((2,2))(X)\n",
        "  X = Dropout(0.3)(X)\n",
        "  X = Conv2D(filters=512, kernel_size=(3,3), padding='same', activation='relu')(X)\n",
        "  X = MaxPooling2D((2,2))(X)\n",
        "  X = Flatten()(X)\n",
        "  X = Dense(64, activation='relu')(X)\n",
        "  X = Dense(16, activation='relu')(X)\n",
        "  outputs = Dense(7, activation='softmax')(X)\n",
        "  model = Model(inputs=inputs,outputs=outputs)\n",
        "  return model"
      ],
      "execution_count": 0,
      "outputs": []
    },
    {
      "cell_type": "code",
      "metadata": {
        "id": "PxIemuY-tB3a",
        "colab_type": "code",
        "outputId": "ad1db123-badc-4323-ef84-e49e0e9e77c6",
        "colab": {
          "base_uri": "https://localhost:8080/",
          "height": 799
        }
      },
      "source": [
        "model = create_model()\n",
        "model.summary()"
      ],
      "execution_count": 65,
      "outputs": [
        {
          "output_type": "stream",
          "text": [
            "Model: \"model_10\"\n",
            "_________________________________________________________________\n",
            "Layer (type)                 Output Shape              Param #   \n",
            "=================================================================\n",
            "input_12 (InputLayer)        [(None, 96, 96, 3)]       0         \n",
            "_________________________________________________________________\n",
            "conv2d_37 (Conv2D)           (None, 96, 96, 32)        2432      \n",
            "_________________________________________________________________\n",
            "max_pooling2d_34 (MaxPooling (None, 48, 48, 32)        0         \n",
            "_________________________________________________________________\n",
            "dropout_10 (Dropout)         (None, 48, 48, 32)        0         \n",
            "_________________________________________________________________\n",
            "conv2d_38 (Conv2D)           (None, 48, 48, 64)        51264     \n",
            "_________________________________________________________________\n",
            "max_pooling2d_35 (MaxPooling (None, 24, 24, 64)        0         \n",
            "_________________________________________________________________\n",
            "dropout_11 (Dropout)         (None, 24, 24, 64)        0         \n",
            "_________________________________________________________________\n",
            "conv2d_39 (Conv2D)           (None, 24, 24, 128)       204928    \n",
            "_________________________________________________________________\n",
            "max_pooling2d_36 (MaxPooling (None, 12, 12, 128)       0         \n",
            "_________________________________________________________________\n",
            "dropout_12 (Dropout)         (None, 12, 12, 128)       0         \n",
            "_________________________________________________________________\n",
            "conv2d_40 (Conv2D)           (None, 12, 12, 256)       295168    \n",
            "_________________________________________________________________\n",
            "max_pooling2d_37 (MaxPooling (None, 6, 6, 256)         0         \n",
            "_________________________________________________________________\n",
            "dropout_13 (Dropout)         (None, 6, 6, 256)         0         \n",
            "_________________________________________________________________\n",
            "conv2d_41 (Conv2D)           (None, 6, 6, 512)         1180160   \n",
            "_________________________________________________________________\n",
            "max_pooling2d_38 (MaxPooling (None, 3, 3, 512)         0         \n",
            "_________________________________________________________________\n",
            "flatten_10 (Flatten)         (None, 4608)              0         \n",
            "_________________________________________________________________\n",
            "dense_22 (Dense)             (None, 64)                294976    \n",
            "_________________________________________________________________\n",
            "dense_23 (Dense)             (None, 16)                1040      \n",
            "_________________________________________________________________\n",
            "dense_24 (Dense)             (None, 7)                 119       \n",
            "=================================================================\n",
            "Total params: 2,030,087\n",
            "Trainable params: 2,030,087\n",
            "Non-trainable params: 0\n",
            "_________________________________________________________________\n"
          ],
          "name": "stdout"
        }
      ]
    },
    {
      "cell_type": "code",
      "metadata": {
        "id": "G5srnQn-tTcF",
        "colab_type": "code",
        "colab": {}
      },
      "source": [
        "model.compile(loss=CategoricalCrossentropy(), optimizer=Adam(), metrics=['categorical_crossentropy'])"
      ],
      "execution_count": 0,
      "outputs": []
    },
    {
      "cell_type": "code",
      "metadata": {
        "id": "WhJhP1Rzu47R",
        "colab_type": "code",
        "colab": {
          "base_uri": "https://localhost:8080/",
          "height": 153
        },
        "outputId": "cec68c70-04dc-4f68-d31c-1d77b3be3048"
      },
      "source": [
        "history = model.fit(states_expanded, actions_one_hot_expanded,  batch_size=64, epochs=4, shuffle=False)"
      ],
      "execution_count": 67,
      "outputs": [
        {
          "output_type": "stream",
          "text": [
            "Epoch 1/4\n",
            "1493/1493 [==============================] - 96s 64ms/step - loss: 1.6152 - categorical_crossentropy: 1.6152\n",
            "Epoch 2/4\n",
            "1493/1493 [==============================] - 96s 64ms/step - loss: 0.8354 - categorical_crossentropy: 0.8354\n",
            "Epoch 3/4\n",
            "1493/1493 [==============================] - 96s 64ms/step - loss: 0.7829 - categorical_crossentropy: 0.7829\n",
            "Epoch 4/4\n",
            "1493/1493 [==============================] - 96s 64ms/step - loss: 0.7684 - categorical_crossentropy: 0.7684\n"
          ],
          "name": "stdout"
        }
      ]
    },
    {
      "cell_type": "code",
      "metadata": {
        "id": "16gdiVk1Ir7S",
        "colab_type": "code",
        "colab": {}
      },
      "source": [
        "model.save('/content/drive/My Drive/Gym2/my_model.h5')"
      ],
      "execution_count": 0,
      "outputs": []
    },
    {
      "cell_type": "code",
      "metadata": {
        "id": "x8iL5z5q-xwf",
        "colab_type": "code",
        "colab": {}
      },
      "source": [
        "def model_mobile():\n",
        "  inputs = Input(shape=(96,96,3))\n",
        "  feature_extractor = InceptionResNetV2(include_top=False, pooling='max')\n",
        "  for layer in feature_extractor.layers:\n",
        "        layer.trainable = False\n",
        "  X = Flatten()(feature_extractor(inputs))\n",
        "  X = Dense(64, activation='relu')(X)\n",
        "  X = Dense(16, activation='relu')(X)\n",
        "  outputs = Dense(7, activation='softmax')(X)\n",
        "  model = Model(inputs=inputs,outputs=outputs)\n",
        "  return model"
      ],
      "execution_count": 0,
      "outputs": []
    },
    {
      "cell_type": "code",
      "metadata": {
        "id": "cunobQ2I-iHk",
        "colab_type": "code",
        "colab": {
          "base_uri": "https://localhost:8080/",
          "height": 357
        },
        "outputId": "7b24b1bc-ce56-42b3-f9f2-c33650de2993"
      },
      "source": [
        "model = model_mobile()\n",
        "model.summary()"
      ],
      "execution_count": 98,
      "outputs": [
        {
          "output_type": "stream",
          "text": [
            "Model: \"model_13\"\n",
            "_________________________________________________________________\n",
            "Layer (type)                 Output Shape              Param #   \n",
            "=================================================================\n",
            "input_25 (InputLayer)        [(None, 96, 96, 3)]       0         \n",
            "_________________________________________________________________\n",
            "inception_resnet_v2 (Model)  (None, 1536)              54336736  \n",
            "_________________________________________________________________\n",
            "flatten_15 (Flatten)         (None, 1536)              0         \n",
            "_________________________________________________________________\n",
            "dense_31 (Dense)             (None, 64)                98368     \n",
            "_________________________________________________________________\n",
            "dense_32 (Dense)             (None, 16)                1040      \n",
            "_________________________________________________________________\n",
            "dense_33 (Dense)             (None, 7)                 119       \n",
            "=================================================================\n",
            "Total params: 54,436,263\n",
            "Trainable params: 99,527\n",
            "Non-trainable params: 54,336,736\n",
            "_________________________________________________________________\n"
          ],
          "name": "stdout"
        }
      ]
    },
    {
      "cell_type": "code",
      "metadata": {
        "id": "pXoJ2KkI_fZJ",
        "colab_type": "code",
        "colab": {}
      },
      "source": [
        "model.compile(loss=CategoricalCrossentropy(), optimizer=Adam(), metrics=['categorical_crossentropy'])"
      ],
      "execution_count": 0,
      "outputs": []
    },
    {
      "cell_type": "code",
      "metadata": {
        "id": "1yyW3UVA_wbM",
        "colab_type": "code",
        "colab": {
          "base_uri": "https://localhost:8080/",
          "height": 51
        },
        "outputId": "f4e049fc-55c7-419d-decf-2a14071d8b63"
      },
      "source": [
        "history = model.fit(states_expanded, actions_one_hot_expanded,  batch_size=64, epochs=2, shuffle=False)"
      ],
      "execution_count": 0,
      "outputs": [
        {
          "output_type": "stream",
          "text": [
            "Epoch 1/2\n",
            "1368/1493 [==========================>...] - ETA: 17s - loss: 4.7844 - categorical_crossentropy: 4.7844"
          ],
          "name": "stdout"
        }
      ]
    },
    {
      "cell_type": "code",
      "metadata": {
        "id": "RgERzWx0_6SH",
        "colab_type": "code",
        "colab": {}
      },
      "source": [
        ""
      ],
      "execution_count": 0,
      "outputs": []
    }
  ]
}